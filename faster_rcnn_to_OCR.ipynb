{
 "cells": [
  {
   "cell_type": "code",
   "execution_count": null,
   "metadata": {},
   "outputs": [],
   "source": [
    "import pandas as pd\n",
    "import numpy as np\n",
    "import cv2\n",
    "import json\n",
    "import ast\n",
    "import base64\n",
    "import random\n",
    "import os\n",
    "import re\n",
    "\n",
    "import albumentations as A\n",
    "from albumentations.pytorch.transforms import ToTensorV2\n",
    "\n",
    "import torch\n",
    "import torchvision\n",
    "\n",
    "from torchvision.models.detection.faster_rcnn import FastRCNNPredictor\n",
    "from torchvision.models.detection import FasterRCNN\n",
    "from torchvision.models.detection.rpn import AnchorGenerator\n",
    "\n",
    "from torch.utils.data import DataLoader, Dataset\n",
    "from torch.utils.data.sampler import SequentialSampler\n",
    "\n",
    "from matplotlib import pyplot as plt\n",
    "from PIL import Image, ImageDraw, ImageFont\n",
    "from io import BytesIO\n",
    "\n",
    "DIR_INPUT = '../input/ocr-data/'\n",
    "DIR_OUTPUT = './'"
   ]
  },
  {
   "cell_type": "code",
   "execution_count": null,
   "metadata": {},
   "outputs": [],
   "source": [
    "# declare function of make csv\n",
    "def make_csv (inputpath, outputpath):\n",
    "    with open(outputpath,'w') as f:\n",
    "        for x in json.loads(open(inputpath,'r').read()):\n",
    "            number = 0\n",
    "            for y in range(len(x['image_data']['xmins'])):\n",
    "                print(', '.join([str(x['filename']),\n",
    "                                 str(x['image_data']['full_latex_chars']),\n",
    "                                 str(x['image_data']['visible_latex_chars']),\n",
    "                                 str(x['image_data']['xmins_raw'][number_2]),\n",
    "                                 str(x['image_data']['ymins_raw'][number_2]),\n",
    "                                 str(x['image_data']['xmaxs_raw'][number_2] - x['image_data']['xmins_raw'][number_2]),\n",
    "                                 str(x['image_data']['ymaxs_raw'][number_2] - x['image_data']['ymins_raw'][number_2])]),file = f)\n",
    "                number += 1"
   ]
  },
  {
   "cell_type": "code",
   "execution_count": null,
   "metadata": {},
   "outputs": [],
   "source": [
    "for x in range(1,11):\n",
    "    make_csv(f'{DIR_INPUT}batch_{x}/JSON/kaggle_data_{x}.json',\n",
    "             f'{DIR_OUTPUT}csv_{x}.csv')"
   ]
  }
 ],
 "metadata": {
  "kernelspec": {
   "display_name": "Python 3",
   "language": "python",
   "name": "python3"
  },
  "language_info": {
   "codemirror_mode": {
    "name": "ipython",
    "version": 3
   },
   "file_extension": ".py",
   "mimetype": "text/x-python",
   "name": "python",
   "nbconvert_exporter": "python",
   "pygments_lexer": "ipython3",
   "version": "3.8.5"
  }
 },
 "nbformat": 4,
 "nbformat_minor": 4
}
